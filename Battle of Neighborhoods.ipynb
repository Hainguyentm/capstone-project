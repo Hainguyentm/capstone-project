{
 "cells": [
  {
   "cell_type": "markdown",
   "metadata": {
    "collapsed": true
   },
   "source": [
    "# Coursera Capstone Project- Battle of Neighborhoods"
   ]
  },
  {
   "cell_type": "markdown",
   "metadata": {},
   "source": [
    "\n",
    "# Week 1\n",
    "## Part 1\n",
    "\n",
    "## Problem Statement:\n",
    "\n",
    "A company wants to open a food joint in NYC. But it already has many and hence there is real ocean for a food joint to establish there and the strategy has to be bang on. Though the NYC is a homogenous with people of different countries and cultures residing, its still an attractive market. Hence the objective is to reduce risk and increase the ROI by finding the right location for the food joint to open in the New York City. The recommendation should be easy to understand and interpret by the stakeholders so graphics will be of good help."
   ]
  },
  {
   "cell_type": "markdown",
   "metadata": {},
   "source": [
    "## Stakeholders:\n",
    "\n",
    "The company named ABC Foods Ltd. wants to know the location where they can open the Food Joint and the Food Joint should have chances to be successful. Hence the stakeholders will be the management of ABC Foods Ltd. Though this solution can be extended to all those who may wish to open a food joint/restaraunt in NYC."
   ]
  },
  {
   "cell_type": "markdown",
   "metadata": {},
   "source": [
    "## Success Criteria:\n",
    "The recommendation will be a successful one if it helps to find a location where the new food joint can flourish well, i.e competition may be less or the spending power of people is good in that area."
   ]
  },
  {
   "cell_type": "markdown",
   "metadata": {},
   "source": [
    "## Part 2\n",
    "\n",
    "## Data\n",
    "### For this problem I need data of the following:\n",
    "   #### 1) Demographics of New York- Understand the Demographics of NYC \n",
    "   #### 2) NYC population data- Understand the population density, more populous area gives more chance of success\n",
    "   #### 3) Competion data/Cuisines in New York\n",
    "   #### 4) Data of Borough and Neighborhoods with Lat Lang data\n",
    "Source for these will be wikipedia\n",
    "https://en.wikipedia.org/wiki/New_York_City\n",
    "https://en.wikipedia.org/wiki/Demographics_of_New_York_City\n",
    "https://en.wikipedia.org/wiki/Cuisine_of_New_York_City\n",
    "https://en.wikipedia.org/wiki/List_of_restaurants_in_New_York_City\n",
    "\n",
    "#### Geographical Data will be taken by Foursquare API and using the link https://geo.nyu.edu/catalog/nyu_2451_34572, https://cocl.us/new_york_dataset\n",
    "\n",
    "\n"
   ]
  },
  {
   "cell_type": "code",
   "execution_count": null,
   "metadata": {},
   "outputs": [],
   "source": []
  }
 ],
 "metadata": {
  "kernelspec": {
   "display_name": "Python 3.6",
   "language": "python",
   "name": "python3"
  },
  "language_info": {
   "codemirror_mode": {
    "name": "ipython",
    "version": 3
   },
   "file_extension": ".py",
   "mimetype": "text/x-python",
   "name": "python",
   "nbconvert_exporter": "python",
   "pygments_lexer": "ipython3",
   "version": "3.6.9"
  }
 },
 "nbformat": 4,
 "nbformat_minor": 1
}
